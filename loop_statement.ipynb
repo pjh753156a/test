{
 "cells": [
  {
   "cell_type": "code",
   "execution_count": null,
   "metadata": {},
   "outputs": [],
   "source": [
    "# 반복문\n",
    "# for 반복문: 반복할 횟수가 정해져있는 반복 작업에서 사용\n",
    "# for 변수 in range(반복횟수):\n",
    "#   반복할 실행문"
   ]
  },
  {
   "cell_type": "code",
   "execution_count": null,
   "metadata": {},
   "outputs": [],
   "source": [
    "# for (int index = 0; index < 5; index++) {}  - X\n",
    "\n",
    "# int[] array = {0, 1, 2, 3, 4};\n",
    "# for (int index: array) {} - O\n",
    "\n",
    "# range(정수): 0부터 정수-1 까지의 정수 리스트 생성\n",
    "# range(시작 정수, 종료 정수): 시작 정수부터 종료 정수-1 까지의 정수 리스트 생성\n",
    "# range(시작 정수, 종료 정수, 차이정수): 시작 정수부터 종료 정수-1 까지의 정수 리스트를 생성하는데 차이정수 만큼의 차이를 가지며 변경됨\n",
    "\n",
    "for index in range(5):\n",
    "    print(index)\n",
    "\n",
    "for index in range(5, 10):\n",
    "    print(index)\n",
    "\n",
    "for index in range(5, 10, 3):\n",
    "    print(index)\n",
    "\n",
    "for index in range(10, -1, -1):\n",
    "    print(index)"
   ]
  },
  {
   "cell_type": "code",
   "execution_count": null,
   "metadata": {},
   "outputs": [],
   "source": [
    "for count in range(1, 11):\n",
    "    print(\"*\" * count)"
   ]
  },
  {
   "cell_type": "code",
   "execution_count": null,
   "metadata": {},
   "outputs": [],
   "source": [
    "for count in range(10, 0, -1):\n",
    "    print(\"*\" * count)"
   ]
  },
  {
   "cell_type": "code",
   "execution_count": null,
   "metadata": {},
   "outputs": [],
   "source": [
    "for count in range(1, 20):\n",
    "    if count <= 10:\n",
    "        print(\"*\" * count)\n",
    "    else:\n",
    "        print(\"*\" * (20 - count))"
   ]
  },
  {
   "cell_type": "code",
   "execution_count": null,
   "metadata": {},
   "outputs": [],
   "source": [
    "for count in range(1, 12):\n",
    "    if count <= 6:\n",
    "        print(\" \" * (6 - count) + \"*\" * (count * 2 - 1))\n",
    "    else:\n",
    "        print(\" \" * (count - 6) + \"*\" * ((12 - count) * 2 - 1))"
   ]
  },
  {
   "cell_type": "code",
   "execution_count": null,
   "metadata": {},
   "outputs": [],
   "source": [
    "for count in range(1, 12):\n",
    "    star = \"*\"\n",
    "    if count <= 6:\n",
    "        star = \"*\" * (count * 2 - 1)\n",
    "    else:\n",
    "        star = \"*\" * ((12 - count) * 2 - 1)\n",
    "    print(f'{star:^11}')"
   ]
  },
  {
   "cell_type": "code",
   "execution_count": null,
   "metadata": {},
   "outputs": [],
   "source": [
    "# 0 1 2 3\n",
    "# 1 2 3 4\n",
    "# 2 3 4 5\n",
    "# 3 4 5 6"
   ]
  },
  {
   "cell_type": "code",
   "execution_count": null,
   "metadata": {},
   "outputs": [],
   "source": [
    "for a in range(4):\n",
    "    for b in range(4):\n",
    "        print(a + b, end=\" \")\n",
    "    print(\"\")"
   ]
  },
  {
   "cell_type": "code",
   "execution_count": null,
   "metadata": {},
   "outputs": [],
   "source": [
    "for start in range(4):\n",
    "    for value in range(start, start + 4):\n",
    "        print(value, end=\" \")\n",
    "    print(\"\")"
   ]
  },
  {
   "cell_type": "code",
   "execution_count": null,
   "metadata": {},
   "outputs": [],
   "source": [
    "for a in range(1, 7):\n",
    "    for b in range(1, 7):\n",
    "        if (a + b) % 4 == 0:\n",
    "            print(f'{a} {b}')"
   ]
  },
  {
   "cell_type": "code",
   "execution_count": null,
   "metadata": {},
   "outputs": [],
   "source": [
    "# 어떤 주식의 가격은 매일 한 번 동전을 던져서 앞면이 나오면 전날 가격의 2배가 되고, 뒷면이 나오면 전날 가격의 절반이 된다. 1일에 주식 시작 가격이 1,024원이었을 때, 4일 주식의 마감 가격이 나올 수 있는 경우를 모두 구한다. (힌트: for 반복문이 3번 중첩되어야 한다)"
   ]
  },
  {
   "cell_type": "code",
   "execution_count": null,
   "metadata": {},
   "outputs": [],
   "source": [
    "for day1 in range(2):\n",
    "    for day2 in range(2):\n",
    "        for day3 in range(2):\n",
    "            for day4 in range(2):\n",
    "                print(1024 * 2**(2*day1 - 1) * 2**(2*day2 - 1) * 2**(2*day3 - 1) * 2**(2*day4 - 1))\n",
    "        "
   ]
  },
  {
   "cell_type": "code",
   "execution_count": null,
   "metadata": {},
   "outputs": [],
   "source": [
    "for count in range (1, 11):\n",
    "    sum = 0\n",
    "    for value in range(count + 1):\n",
    "        sum += value\n",
    "    print(sum)"
   ]
  },
  {
   "cell_type": "code",
   "execution_count": null,
   "metadata": {},
   "outputs": [],
   "source": [
    "# 다음과 같은 수열이 있을 경우에 10번째 수열의 값을 구한다.\n",
    "\n",
    "# 1+1+2+1+2+3+1+2+3+4+⋯+1+⋯+10"
   ]
  },
  {
   "cell_type": "code",
   "execution_count": 49,
   "metadata": {},
   "outputs": [
    {
     "name": "stdout",
     "output_type": "stream",
     "text": [
      "220\n"
     ]
    }
   ],
   "source": [
    "sum = 0\n",
    "for count in range (1, 11):\n",
    "    for value in range(count + 1):\n",
    "        sum += value\n",
    "print(sum)"
   ]
  }
 ],
 "metadata": {
  "kernelspec": {
   "display_name": "Python 3",
   "language": "python",
   "name": "python3"
  },
  "language_info": {
   "codemirror_mode": {
    "name": "ipython",
    "version": 3
   },
   "file_extension": ".py",
   "mimetype": "text/x-python",
   "name": "python",
   "nbconvert_exporter": "python",
   "pygments_lexer": "ipython3",
   "version": "3.12.2"
  }
 },
 "nbformat": 4,
 "nbformat_minor": 2
}
